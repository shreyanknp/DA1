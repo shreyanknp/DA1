{
  "cells": [
    {
      "cell_type": "markdown",
      "metadata": {
        "id": "view-in-github",
        "colab_type": "text"
      },
      "source": [
        "<a href=\"https://colab.research.google.com/github/shreyanknp/DA1/blob/main/ML_project_novelty.ipynb\" target=\"_parent\"><img src=\"https://colab.research.google.com/assets/colab-badge.svg\" alt=\"Open In Colab\"/></a>"
      ]
    },
    {
      "cell_type": "code",
      "execution_count": null,
      "metadata": {
        "colab": {
          "base_uri": "https://localhost:8080/"
        },
        "id": "GVKZLkbN3dG5",
        "outputId": "e3cdc97e-5002-4059-aebf-2732f993c723"
      },
      "outputs": [
        {
          "name": "stdout",
          "output_type": "stream",
          "text": [
            "Collecting scikit-optimize\n",
            "  Downloading scikit_optimize-0.10.2-py2.py3-none-any.whl.metadata (9.7 kB)\n",
            "Requirement already satisfied: joblib>=0.11 in /usr/local/lib/python3.10/dist-packages (from scikit-optimize) (1.4.2)\n",
            "Collecting pyaml>=16.9 (from scikit-optimize)\n",
            "  Downloading pyaml-25.1.0-py3-none-any.whl.metadata (12 kB)\n",
            "Requirement already satisfied: numpy>=1.20.3 in /usr/local/lib/python3.10/dist-packages (from scikit-optimize) (1.26.4)\n",
            "Requirement already satisfied: scipy>=1.1.0 in /usr/local/lib/python3.10/dist-packages (from scikit-optimize) (1.13.1)\n",
            "Requirement already satisfied: scikit-learn>=1.0.0 in /usr/local/lib/python3.10/dist-packages (from scikit-optimize) (1.6.0)\n",
            "Requirement already satisfied: packaging>=21.3 in /usr/local/lib/python3.10/dist-packages (from scikit-optimize) (24.2)\n",
            "Requirement already satisfied: PyYAML in /usr/local/lib/python3.10/dist-packages (from pyaml>=16.9->scikit-optimize) (6.0.2)\n",
            "Requirement already satisfied: threadpoolctl>=3.1.0 in /usr/local/lib/python3.10/dist-packages (from scikit-learn>=1.0.0->scikit-optimize) (3.5.0)\n",
            "Downloading scikit_optimize-0.10.2-py2.py3-none-any.whl (107 kB)\n",
            "\u001b[2K   \u001b[90m━━━━━━━━━━━━━━━━━━━━━━━━━━━━━━━━━━━━━━━━\u001b[0m \u001b[32m107.8/107.8 kB\u001b[0m \u001b[31m3.0 MB/s\u001b[0m eta \u001b[36m0:00:00\u001b[0m\n",
            "\u001b[?25hDownloading pyaml-25.1.0-py3-none-any.whl (26 kB)\n",
            "Installing collected packages: pyaml, scikit-optimize\n",
            "Successfully installed pyaml-25.1.0 scikit-optimize-0.10.2\n"
          ]
        }
      ],
      "source": [
        "!pip install scikit-optimize"
      ]
    },
    {
      "cell_type": "code",
      "execution_count": null,
      "metadata": {
        "colab": {
          "base_uri": "https://localhost:8080/"
        },
        "id": "xdA3rJbP5SDp",
        "outputId": "0a1322f6-8fff-4d06-d7c9-b9ddd0f7c59a"
      },
      "outputs": [
        {
          "name": "stdout",
          "output_type": "stream",
          "text": [
            "        0         1         2         3         4         5         6   \\\n",
            "0  1.32630  1.862086  3.562615  1.112359  4.208065  1.412679  2.271031   \n",
            "1  1.34149  1.786558  2.354766  1.047929  2.268974  4.637777  3.793194   \n",
            "2  1.33034  1.826187  3.037997  4.719517  1.502280  3.644736  3.575727   \n",
            "3  1.35653  1.739225  4.412804  2.220680  3.132738  1.327124  4.759890   \n",
            "4  1.30190  1.955829  2.790669  0.798177  1.231750  1.977844  2.393930   \n",
            "\n",
            "         7         8         9   ...        31        32        33        34  \\\n",
            "0  3.950614  3.627032  4.600332  ...  3.965987  4.030999  0.826347  2.088521   \n",
            "1  2.859702  4.361058  3.592485  ...  2.228000  4.837370  2.846538  3.413201   \n",
            "2  1.337686  2.380347  4.503771  ...  2.615278  3.757999  3.161658  4.996056   \n",
            "3  2.882082  3.663430  4.531524  ...  3.899026  1.018926  4.379308  3.280298   \n",
            "4  4.738126  1.364743  3.391665  ...  3.641512  1.564076  2.178406  2.754888   \n",
            "\n",
            "         35        36        37        38        39        40  \n",
            "0  4.088550  1.184149  2.780985  2.865400  4.773820  3.539373  \n",
            "1  4.154079  4.700800  3.597879  4.681148  3.215494  3.972672  \n",
            "2  3.339642  2.548468  4.417111  1.375554  4.363320  2.988546  \n",
            "3  3.916281  3.179922  3.769315  0.849544  2.508179  0.912272  \n",
            "4  4.007165  0.702069  4.064682  1.370575  0.769475  1.395959  \n",
            "\n",
            "[5 rows x 41 columns]\n",
            "Index(['rod_1', 'rod_2', 'rod_3', 'rod_4', 'rod_5', 'rod_6', 'rod_7', 'rod_8',\n",
            "       'rod_9', 'rod_10', 'rod_11', 'rod_12', 'rod_13', 'rod_14', 'rod_15',\n",
            "       'rod_16', 'rod_17', 'rod_18', 'rod_19', 'rod_20', 'rod_21', 'rod_22',\n",
            "       'rod_23', 'rod_24', 'rod_25', 'rod_26', 'rod_27', 'rod_28', 'rod_29',\n",
            "       'rod_30', 'rod_31', 'rod_32', 'rod_33', 'rod_34', 'rod_35', 'rod_36',\n",
            "       'rod_37', 'rod_38', 'rod_39', 'k_inf', 'pppf'],\n",
            "      dtype='object')\n",
            "     rod_1     rod_2     rod_3     rod_4     rod_5     rod_6     rod_7  \\\n",
            "0  1.32630  1.862086  3.562615  1.112359  4.208065  1.412679  2.271031   \n",
            "1  1.34149  1.786558  2.354766  1.047929  2.268974  4.637777  3.793194   \n",
            "2  1.33034  1.826187  3.037997  4.719517  1.502280  3.644736  3.575727   \n",
            "3  1.35653  1.739225  4.412804  2.220680  3.132738  1.327124  4.759890   \n",
            "4  1.30190  1.955829  2.790669  0.798177  1.231750  1.977844  2.393930   \n",
            "\n",
            "      rod_8     rod_9    rod_10  ...    rod_32    rod_33    rod_34    rod_35  \\\n",
            "0  3.950614  3.627032  4.600332  ...  3.965987  4.030999  0.826347  2.088521   \n",
            "1  2.859702  4.361058  3.592485  ...  2.228000  4.837370  2.846538  3.413201   \n",
            "2  1.337686  2.380347  4.503771  ...  2.615278  3.757999  3.161658  4.996056   \n",
            "3  2.882082  3.663430  4.531524  ...  3.899026  1.018926  4.379308  3.280298   \n",
            "4  4.738126  1.364743  3.391665  ...  3.641512  1.564076  2.178406  2.754888   \n",
            "\n",
            "     rod_36    rod_37    rod_38    rod_39     k_inf      pppf  \n",
            "0  4.088550  1.184149  2.780985  2.865400  4.773820  3.539373  \n",
            "1  4.154079  4.700800  3.597879  4.681148  3.215494  3.972672  \n",
            "2  3.339642  2.548468  4.417111  1.375554  4.363320  2.988546  \n",
            "3  3.916281  3.179922  3.769315  0.849544  2.508179  0.912272  \n",
            "4  4.007165  0.702069  4.064682  1.370575  0.769475  1.395959  \n",
            "\n",
            "[5 rows x 41 columns]\n"
          ]
        }
      ],
      "source": [
        "import pandas as pd\n",
        "\n",
        "# Load the dataset (replace with your dataset path)\n",
        "path='/content/drive/MyDrive/Datasets/pwr_raw.csv'\n",
        "data = pd.read_csv(path, sep=r'\\s+', header=None)\n",
        "\n",
        "# Create new column names\n",
        "column_names = [f'rod_{i}' for i in range(1, 40)] + ['k_inf', 'pppf']\n",
        "\n",
        "print(data.head())\n",
        "\n",
        "# Assign the new column names to the DataFrame\n",
        "data.columns = column_names\n",
        "\n",
        "# Check the updated column names\n",
        "print(data.columns)\n",
        "\n",
        "print(data.head())\n"
      ]
    },
    {
      "cell_type": "code",
      "execution_count": null,
      "metadata": {
        "colab": {
          "background_save": true
        },
        "id": "bgOmHMLcCzWb",
        "outputId": "8e432eae-894d-47bf-e886-a0d0242a2179"
      },
      "outputs": [
        {
          "name": "stdout",
          "output_type": "stream",
          "text": [
            "Best parameters: OrderedDict([('max_depth', 20), ('min_samples_leaf', 0.01), ('min_samples_split', 2)])\n"
          ]
        }
      ],
      "source": [
        "import numpy as np\n",
        "import pandas as pd\n",
        "from skopt import BayesSearchCV\n",
        "from skopt.space import Integer, Real\n",
        "from sklearn.ensemble import RandomForestRegressor\n",
        "from sklearn.model_selection import train_test_split\n",
        "\n",
        "# Load the dataset (replace with your dataset path)\n",
        "#data = pd.read_csv('path_to_your_dataset.csv')\n",
        "\n",
        "# Separate features and target variables\n",
        "X = data.drop(columns=['k_inf', 'pppf'])  # Fuel rod enrichment values\n",
        "y = data[['k_inf', 'pppf']]  # Target variables\n",
        "\n",
        "# Split data into training and testing sets\n",
        "X_train, X_test, y_train, y_test = train_test_split(X, y, test_size=0.2, random_state=42)\n",
        "\n",
        "# Define the model for optimization (Random Forest Regressor)\n",
        "model = RandomForestRegressor(n_estimators=100, random_state=42)\n",
        "\n",
        "# Define the search space for Bayesian optimization\n",
        "param_space = {\n",
        "    'max_depth': Integer(1, 20),  # max_depth must be an integer between 1 and 20\n",
        "    'min_samples_split': Integer(2, 10),  # min_samples_split as an integer between 2 and 10\n",
        "    'min_samples_leaf': Real(0.01, 0.1, 'uniform'),  # min_samples_leaf as a float between 0.01 and 0.1\n",
        "}\n",
        "\n",
        "# Initialize Bayesian Optimization with the corrected param_space\n",
        "opt = BayesSearchCV(model, param_space, n_iter=50, cv=3, random_state=42)\n",
        "\n",
        "# Fit the model to the training data using Bayesian Optimization\n",
        "opt.fit(X_train, y_train)\n",
        "\n",
        "# Best parameters found through Bayesian Optimization\n",
        "print(\"Best parameters:\", opt.best_params_)\n",
        "\n",
        "\n"
      ]
    },
    {
      "cell_type": "code",
      "execution_count": null,
      "metadata": {
        "id": "HmuMyFJ8EQ6Y"
      },
      "outputs": [],
      "source": []
    }
  ],
  "metadata": {
    "colab": {
      "provenance": [],
      "mount_file_id": "1o0vKMuFgn7DmKbL097dGSgA7CKjOVKn2",
      "authorship_tag": "ABX9TyOXhCUHwTMQjvn/DvgBsb+6",
      "include_colab_link": true
    },
    "kernelspec": {
      "display_name": "Python 3",
      "name": "python3"
    },
    "language_info": {
      "name": "python"
    }
  },
  "nbformat": 4,
  "nbformat_minor": 0
}